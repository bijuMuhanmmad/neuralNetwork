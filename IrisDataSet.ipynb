{
 "cells": [
  {
   "cell_type": "code",
   "execution_count": 1,
   "id": "34f40f91",
   "metadata": {},
   "outputs": [],
   "source": [
    "#Derivation of the Gradient of Cross-Entropy Loss with Respect to the Weights in a Single-Layer Softmax Classifier\n",
    "\n",
    "#Importing Necessary Libraries\n",
    "#scikit-learn is a  library for machine learning in Python \n",
    "\n"
   ]
  },
  {
   "cell_type": "code",
   "execution_count": 2,
   "id": "ce68bdac",
   "metadata": {},
   "outputs": [],
   "source": [
    "import numpy as np\n",
    "from sklearn.datasets import load_iris\n",
    "from sklearn.preprocessing import OneHotEncoder\n",
    "from sklearn.model_selection import train_test_split"
   ]
  },
  {
   "cell_type": "code",
   "execution_count": 3,
   "id": "d9fcfe71",
   "metadata": {},
   "outputs": [],
   "source": [
    "#Loading the Iris DataSet"
   ]
  },
  {
   "cell_type": "code",
   "execution_count": 4,
   "id": "2c17557d",
   "metadata": {},
   "outputs": [],
   "source": [
    "iris = load_iris()\n",
    "X = iris.data\n",
    "y = iris.target.reshape(-1, 1)"
   ]
  },
  {
   "cell_type": "code",
   "execution_count": 5,
   "id": "e41a9ff5",
   "metadata": {},
   "outputs": [],
   "source": [
    "# One-hot encode the target values\n",
    "# This is a  preprocessing step for converting labels into\n",
    "# a format suitable for training machine learning models,"
   ]
  },
  {
   "cell_type": "code",
   "execution_count": 6,
   "id": "107a9aec",
   "metadata": {},
   "outputs": [],
   "source": [
    "encoder = OneHotEncoder(sparse=False)\n",
    "y = encoder.fit_transform(y)"
   ]
  },
  {
   "cell_type": "code",
   "execution_count": 7,
   "id": "9720fdea",
   "metadata": {},
   "outputs": [],
   "source": [
    "# Split the dataset into training and testing sets\n",
    "# Here, 20% of the data will be used for testing, and the remaining 80% will be used for training."
   ]
  },
  {
   "cell_type": "code",
   "execution_count": 8,
   "id": "c19b7f89",
   "metadata": {},
   "outputs": [],
   "source": [
    "X_train, X_test, y_train, y_test = train_test_split(X, y, test_size=0.2, random_state=42)"
   ]
  },
  {
   "cell_type": "code",
   "execution_count": 9,
   "id": "d41d1edd",
   "metadata": {},
   "outputs": [],
   "source": [
    "# Normalize the input data\n",
    "# Normalizing the training and test datasets to a range of [0, 1] \n",
    "# helps improve the performance and stability of machine learning models by ensuring that \n",
    "# all features have consistent scales, thereby contributing equally to the learning process."
   ]
  },
  {
   "cell_type": "code",
   "execution_count": 10,
   "id": "72cdbe8d",
   "metadata": {},
   "outputs": [],
   "source": [
    "X_train = X_train / np.max(X_train, axis=0)\n",
    "X_test = X_test / np.max(X_test, axis=0)"
   ]
  },
  {
   "cell_type": "code",
   "execution_count": 11,
   "id": "1fa321a5",
   "metadata": {},
   "outputs": [],
   "source": [
    "#Activation and Loss Functions"
   ]
  },
  {
   "cell_type": "code",
   "execution_count": 12,
   "id": "1916deaf",
   "metadata": {},
   "outputs": [],
   "source": [
    "def sigmoid(x):\n",
    "    return 1 / (1 + np.exp(-x))\n",
    "\n",
    "def sigmoid_derivative(x):\n",
    "    return x * (1 - x)\n",
    "\n",
    "def softmax(x):\n",
    "    exp_x = np.exp(x - np.max(x, axis=1, keepdims=True))\n",
    "    return exp_x / np.sum(exp_x, axis=1, keepdims=True)\n"
   ]
  },
  {
   "cell_type": "code",
   "execution_count": 13,
   "id": "fbd05d25",
   "metadata": {},
   "outputs": [],
   "source": [
    "#Cross-Entropy Loss"
   ]
  },
  {
   "cell_type": "code",
   "execution_count": 14,
   "id": "75570d9d",
   "metadata": {},
   "outputs": [],
   "source": [
    "def cross_entropy_loss(y_true, y_pred):\n",
    "    n_samples = y_true.shape[0]\n",
    "    y_pred_clipped = np.clip(y_pred, 1e-12, 1. - 1e-12)\n",
    "    log_probs = -np.log(y_pred_clipped[range(n_samples), np.argmax(y_true, axis=1)])\n",
    "    loss = np.sum(log_probs) / n_samples\n",
    "    return loss\n"
   ]
  },
  {
   "cell_type": "code",
   "execution_count": 15,
   "id": "38ec1f43",
   "metadata": {},
   "outputs": [],
   "source": [
    "#Cross-Entropy Loss Derivative"
   ]
  },
  {
   "cell_type": "code",
   "execution_count": 16,
   "id": "50be66f1",
   "metadata": {},
   "outputs": [],
   "source": [
    "def cross_entropy_loss_derivative(y_true, y_pred):\n",
    "    return y_pred - y_true\n"
   ]
  },
  {
   "cell_type": "code",
   "execution_count": 17,
   "id": "b53a799f",
   "metadata": {},
   "outputs": [],
   "source": [
    "# Weights and Biases initilisation"
   ]
  },
  {
   "cell_type": "code",
   "execution_count": 18,
   "id": "db7055d6",
   "metadata": {},
   "outputs": [],
   "source": [
    "input_layer_neurons = X_train.shape[1]\n",
    "hidden_layer_neurons = 5\n",
    "output_layer_neurons = y_train.shape[1]\n"
   ]
  },
  {
   "cell_type": "code",
   "execution_count": 19,
   "id": "5676499a",
   "metadata": {},
   "outputs": [],
   "source": [
    "hidden_weights = np.random.uniform(size=(input_layer_neurons, hidden_layer_neurons))\n",
    "hidden_bias = np.random.uniform(size=(1, hidden_layer_neurons))\n",
    "output_weights = np.random.uniform(size=(hidden_layer_neurons, output_layer_neurons))\n",
    "output_bias = np.random.uniform(size=(1, output_layer_neurons))"
   ]
  },
  {
   "cell_type": "code",
   "execution_count": 20,
   "id": "20860b33",
   "metadata": {},
   "outputs": [],
   "source": [
    "# Training Parameters"
   ]
  },
  {
   "cell_type": "code",
   "execution_count": 34,
   "id": "b830b71c",
   "metadata": {},
   "outputs": [],
   "source": [
    "learning_rate = 0.001\n",
    "epochs = 10000\n",
    "loss_values = []"
   ]
  },
  {
   "cell_type": "code",
   "execution_count": 35,
   "id": "c9b2ee3e",
   "metadata": {},
   "outputs": [],
   "source": [
    "# Forward and Backward Propagation"
   ]
  },
  {
   "cell_type": "code",
   "execution_count": 40,
   "id": "445881c2",
   "metadata": {
    "scrolled": false
   },
   "outputs": [
    {
     "name": "stdout",
     "output_type": "stream",
     "text": [
      "Epoch 0, Loss: 0.048117000512752695\n",
      "Epoch 1000, Loss: 0.04805068173286294\n",
      "Epoch 2000, Loss: 0.047988946755945415\n",
      "Epoch 3000, Loss: 0.04793140263856545\n",
      "Epoch 4000, Loss: 0.04787769616527497\n",
      "Epoch 5000, Loss: 0.04782750913492319\n",
      "Epoch 6000, Loss: 0.04778055429995586\n",
      "Epoch 7000, Loss: 0.047736571854684114\n",
      "Epoch 8000, Loss: 0.04769532638715125\n",
      "Epoch 9000, Loss: 0.04765660422419463\n"
     ]
    }
   ],
   "source": [
    "for epoch in range(epochs):\n",
    "    # Forward Propagation\n",
    "    hidden_layer_input = np.dot(X_train, hidden_weights) + hidden_bias\n",
    "    hidden_layer_activation = sigmoid(hidden_layer_input)\n",
    "\n",
    "    output_layer_input = np.dot(hidden_layer_activation, output_weights) + output_bias\n",
    "    predicted_output = softmax(output_layer_input)\n",
    "\n",
    "    # Compute the loss\n",
    "    loss = cross_entropy_loss(y_train, predicted_output)\n",
    "\n",
    "    # Backward Propagation\n",
    "    error = cross_entropy_loss_derivative(y_train, predicted_output)\n",
    "    d_predicted_output = error\n",
    "\n",
    "    error_hidden_layer = d_predicted_output.dot(output_weights.T)\n",
    "    d_hidden_layer = error_hidden_layer * sigmoid_derivative(hidden_layer_activation)\n",
    "\n",
    "    # Update weights and biases\n",
    "    # Subtract the gradient from the current weights to update them. \n",
    "    # This step reduces the loss by moving the weights in the direction opposite to the gradient.\n",
    "    \n",
    "    output_weights -= hidden_layer_activation.T.dot(d_predicted_output) * learning_rate\n",
    "    output_bias -= np.sum(d_predicted_output, axis=0, keepdims=True) * learning_rate\n",
    "    hidden_weights -= X_train.T.dot(d_hidden_layer) * learning_rate\n",
    "    hidden_bias -= np.sum(d_hidden_layer, axis=0, keepdims=True) * learning_rate\n",
    "\n",
    "    # Print loss every 1000 epochs\n",
    "    if epoch % 1000 == 0:\n",
    "        loss_values.append(loss)\n",
    "        print(f\"Epoch {epoch}, Loss: {loss}\")"
   ]
  },
  {
   "cell_type": "code",
   "execution_count": 37,
   "id": "6b9dd060",
   "metadata": {},
   "outputs": [],
   "source": [
    "# Testing the neural network\n",
    "hidden_layer_input = np.dot(X_test, hidden_weights) + hidden_bias\n",
    "hidden_layer_activation = sigmoid(hidden_layer_input)\n",
    "output_layer_input = np.dot(hidden_layer_activation, output_weights) + output_bias\n",
    "predicted_output = softmax(output_layer_input)"
   ]
  },
  {
   "cell_type": "code",
   "execution_count": 38,
   "id": "584a7c1d",
   "metadata": {},
   "outputs": [
    {
     "name": "stdout",
     "output_type": "stream",
     "text": [
      "Test accuracy: 0.9666666666666667\n"
     ]
    }
   ],
   "source": [
    "# Calculate accuracy\n",
    "# argmax(𝑝)=index of the maximum element in 𝑝\n",
    "argmax(p)=index of the maximum element in p\n",
    "predicted_labels = np.argmax(predicted_output, axis=1)\n",
    "true_labels = np.argmax(y_test, axis=1)\n",
    "accuracy = np.mean(predicted_labels == true_labels)\n",
    "print(\"Test accuracy:\", accuracy)"
   ]
  },
  {
   "cell_type": "code",
   "execution_count": 39,
   "id": "02f36ed3",
   "metadata": {},
   "outputs": [
    {
     "data": {
      "image/png": "[encoded data removed]",
      "text/plain": [
       "<Figure size 432x288 with 1 Axes>"
      ]
     },
     "metadata": {
      "needs_background": "light"
     },
     "output_type": "display_data"
    }
   ],
   "source": [
    "import matplotlib.pyplot as plt\n",
    "\n",
    "plt.plot(range(0, epochs, 1000), loss_values)\n",
    "plt.xlabel('Epochs')\n",
    "plt.ylabel('Loss')\n",
    "plt.title('Loss over Epochs')\n",
    "plt.show()"
   ]
  },
  {
   "cell_type": "code",
   "execution_count": null,
   "id": "dfedc210",
   "metadata": {},
   "outputs": [],
   "source": []
  }
 ],
 "metadata": {
  "kernelspec": {
   "display_name": "Python 3 (ipykernel)",
   "language": "python",
   "name": "python3"
  },
  "language_info": {
   "codemirror_mode": {
    "name": "ipython",
    "version": 3
   },
   "file_extension": ".py",
   "mimetype": "text/x-python",
   "name": "python",
   "nbconvert_exporter": "python",
   "pygments_lexer": "ipython3",
   "version": "3.9.12"
  }
 },
 "nbformat": 4,
 "nbformat_minor": 5
}
